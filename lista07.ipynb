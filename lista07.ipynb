{
 "cells": [
  {
   "attachments": {},
   "cell_type": "markdown",
   "metadata": {},
   "source": [
    "# Lista 07 - Análise de Dados e Soluções em TI"
   ]
  },
  {
   "attachments": {},
   "cell_type": "markdown",
   "metadata": {},
   "source": [
    "**Exercício 01 - Lista**"
   ]
  },
  {
   "cell_type": "code",
   "execution_count": 2,
   "metadata": {},
   "outputs": [
    {
     "name": "stdout",
     "output_type": "stream",
     "text": [
      "Lista: [1, 67.2, True, 'Python']\n",
      "Nova lista: [67.2, 'Python']\n"
     ]
    }
   ],
   "source": [
    "lista = [1, 67.2, True, 'Python']\n",
    "print(f'Lista: {lista}')\n",
    "lista.remove(True)\n",
    "lista.remove(True)\n",
    "print (f\"Nova lista: {lista}\") \n",
    "\n",
    "# O metodo remove() como foi usado duas vezes, retirou os dois últimos itens da lista "
   ]
  },
  {
   "attachments": {},
   "cell_type": "markdown",
   "metadata": {},
   "source": [
    "**Exercício 02 - lista impar e par**"
   ]
  },
  {
   "cell_type": "code",
   "execution_count": 6,
   "metadata": {},
   "outputs": [
    {
     "name": "stdout",
     "output_type": "stream",
     "text": [
      "\n",
      "Lista original[8, 21, 34, 65, 79, 94]\n",
      "Lista pares[8, 34, 94]\n",
      "Lista impares[21, 65, 79]\n"
     ]
    }
   ],
   "source": [
    "#Recebe o tamanho da lista\n",
    "quant = int(input('Quantos números deseja inserir na lista: '))\n",
    "lista_original = []\n",
    "lista_pares = []\n",
    "lista_impares = []\n",
    "\n",
    "#Insere os elementos na lista_original\n",
    "for i in range(quant):\n",
    "    itens = int(input(f'{i+1}° valor: '))\n",
    "    lista_original.append(itens)\n",
    "\n",
    "\n",
    "#Adiciona os itens nas listas\n",
    "for i in lista_original:\n",
    "    if i % 2 == 0:\n",
    "        lista_pares.append(i)\n",
    "    else:\n",
    "        lista_impares.append(i)\n",
    "    \n",
    "#Retorna as lista\n",
    "print(f'\\nLista original{lista_original}')\n",
    "print(f'Lista pares{lista_pares}')\n",
    "print(f'Lista impares{lista_impares}')"
   ]
  },
  {
   "attachments": {},
   "cell_type": "markdown",
   "metadata": {},
   "source": [
    "**Exercício 03 - União de Listas** "
   ]
  },
  {
   "cell_type": "code",
   "execution_count": 9,
   "metadata": {},
   "outputs": [
    {
     "name": "stdout",
     "output_type": "stream",
     "text": [
      "Primeira lista [12, 0, 5, 8]\n",
      "Segunda lista [9, 34, 6, 5]\n",
      "Nova lista [12, 0, 5, 8, 9, 34, 6]\n"
     ]
    }
   ],
   "source": [
    "# Criação das listas\n",
    "lista1 = []\n",
    "lista2 = []\n",
    "res = []\n",
    "nova_lista = []\n",
    "\n",
    "# Insere elementos na primeira lista\n",
    "i = 0\n",
    "while True:\n",
    "    i += 1\n",
    "    lista1.append(int(input(f'Insira o {i}° elemento na primeira lista')))\n",
    "    resp = str(input('Deseja informar outro elemento: [sim/não]'))\n",
    "    if resp in 'Nn': \n",
    "        break\n",
    "print(f'Primeira lista: {lista1}')\n",
    "\n",
    "# Insere elementos na segunda lista\n",
    "i = 0\n",
    "while True:\n",
    "    i += 1\n",
    "    lista2.append(int(input(f'Insira o {i}° elemento na segunda lista')))\n",
    "    resp = str(input('Deseja informar outro elemento: [sim/não]'))\n",
    "    if resp in 'Nn': \n",
    "        break\n",
    "print(f'Segunda lista: {lista2}')\n",
    "\n",
    "# Une duas listas em uma nova lista sem elementos duplicados\n",
    "res = lista1 + lista2\n",
    "for i in res:\n",
    "    if i not in nova_lista:\n",
    "        nova_lista.append(i)\n",
    "print(f'Nova lista {nova_lista}')"
   ]
  },
  {
   "attachments": {},
   "cell_type": "markdown",
   "metadata": {},
   "source": [
    "**Exercício 04 - Interseção de listas**"
   ]
  },
  {
   "cell_type": "code",
   "execution_count": 12,
   "metadata": {},
   "outputs": [
    {
     "name": "stdout",
     "output_type": "stream",
     "text": [
      "Primeira lista: [3, 7, 9, 0]\n",
      "Segunda lista: [1, 5, 7, 9]\n",
      "Nova lista: []\n"
     ]
    }
   ],
   "source": [
    "# Criação das listas\n",
    "lista1 = []\n",
    "lista2 = []\n",
    "nova_lista = []\n",
    "\n",
    "# Insere elementos na primeira lista\n",
    "i = 0\n",
    "while True:\n",
    "    i += 1\n",
    "    lista1.append(int(input(f'Insira o {i}° elemento na primeira lista')))\n",
    "    resp = str(input('Deseja informar outro elemento: [sim/não]'))\n",
    "    if resp in 'Nn': \n",
    "        break\n",
    "print(f'Primeira lista: {lista1}')\n",
    "\n",
    "# Insere elementos na segunda lista\n",
    "i = 0\n",
    "while True:\n",
    "    i += 1\n",
    "    lista2.append(int(input(f'Insira o {i}° elemento na segunda lista')))\n",
    "    resp = str(input('Deseja informar outro elemento: [sim/não]'))\n",
    "    if resp in 'Nn': \n",
    "        break\n",
    "print(f'Segunda lista: {lista2}')\n",
    "\n",
    "# Insere elementos na nova lista\n",
    "\n",
    "# Imprime a nova lista \n",
    "print(f'Nova lista: {nova_lista}')"
   ]
  },
  {
   "attachments": {},
   "cell_type": "markdown",
   "metadata": {},
   "source": [
    "**Exercício 05 - Media e desvio padrão de uma lista**"
   ]
  },
  {
   "cell_type": "code",
   "execution_count": 4,
   "metadata": {},
   "outputs": [
    {
     "name": "stdout",
     "output_type": "stream",
     "text": [
      "\n",
      "Lista: [1.55, 1.7, 1.8]\n",
      "\n",
      "A média dos elementos da lista é: 1.68\n",
      "O desvio padrão da lista é: 0.12583057392117916\n"
     ]
    }
   ],
   "source": [
    "import math \n",
    "\n",
    "# Criação das listas\n",
    "quant = int(input('Quantos números deseja inserir na lista: '))\n",
    "lista = []\n",
    "\n",
    "# Insere elementos na lista\n",
    "soma = 0\n",
    "for i in range(quant):\n",
    "    itens = float(input(f'{i+1}° valor: '))\n",
    "    lista.append(itens)\n",
    "    soma = soma + itens\n",
    "print(f'\\nLista: {lista}')\n",
    "\n",
    "# Calcula a média dos elementos da lista\n",
    "media = soma / len(lista)\n",
    "\n",
    "# Imprime o valor da média\n",
    "print('\\nA média dos elementos da lista é: {0:.2f}'.format(media))\n",
    "\n",
    "x = 0\n",
    "for i in lista: \n",
    "    totS = (i - media) ** 2\n",
    "    x = x + totS\n",
    "\n",
    "# Calcula o desvio padrão em relação à média aritmética\n",
    "desvioP = math.sqrt(x / ((len(lista) - 1)))\n",
    "\n",
    "# Imprime o valor do desvio padrão\n",
    "print(f'O desvio padrão da lista é: {desvioP}')"
   ]
  },
  {
   "attachments": {},
   "cell_type": "markdown",
   "metadata": {},
   "source": [
    "**Exercício 06 - Explique os médotos: count, index, reverse e sort**"
   ]
  },
  {
   "attachments": {},
   "cell_type": "markdown",
   "metadata": {},
   "source": [
    "**O método count() retorna o número de vezes que um determinado elemento aparece em uma lista**"
   ]
  },
  {
   "cell_type": "code",
   "execution_count": 3,
   "metadata": {},
   "outputs": [
    {
     "name": "stdout",
     "output_type": "stream",
     "text": [
      "2\n"
     ]
    }
   ],
   "source": [
    "# Exemplo\n",
    "frutas = ['banana', 'maça', 'pessego', 'banana', 'goiaba']\n",
    "n = frutas.count('banana')\n",
    "print(n)"
   ]
  },
  {
   "attachments": {},
   "cell_type": "markdown",
   "metadata": {},
   "source": [
    "**O método index() retorna o indice do elemento informado como parametro**"
   ]
  },
  {
   "cell_type": "code",
   "execution_count": 4,
   "metadata": {},
   "outputs": [
    {
     "name": "stdout",
     "output_type": "stream",
     "text": [
      "3\n"
     ]
    }
   ],
   "source": [
    "# Exemplo\n",
    "frutas = ['banana', 'maça', 'pessego', 'goiaba']\n",
    "i = frutas.index('goiaba')\n",
    "print(i)"
   ]
  },
  {
   "attachments": {},
   "cell_type": "markdown",
   "metadata": {},
   "source": [
    "**O método reverse() retorna os elementos de uma lista a partir do último indice até o primeiro**"
   ]
  },
  {
   "cell_type": "code",
   "execution_count": 5,
   "metadata": {},
   "outputs": [
    {
     "name": "stdout",
     "output_type": "stream",
     "text": [
      "[1, 0, 9, 4, 5, 3, 8]\n"
     ]
    }
   ],
   "source": [
    "# Exemplo\n",
    "lista = [8, 3, 5, 4, 9, 0, 1]\n",
    "lista.reverse()\n",
    "print(lista)"
   ]
  },
  {
   "attachments": {},
   "cell_type": "markdown",
   "metadata": {},
   "source": [
    "**O método sort() ordena os valores de uma lista em ordem crescente**"
   ]
  },
  {
   "cell_type": "code",
   "execution_count": 7,
   "metadata": {},
   "outputs": [
    {
     "name": "stdout",
     "output_type": "stream",
     "text": [
      "[0, 1, 3, 4, 5, 8, 9]\n",
      "[9, 8, 5, 4, 3, 1, 0]\n"
     ]
    }
   ],
   "source": [
    "# Exemplo\n",
    "lista = [8, 3, 5, 4, 9, 0, 1]\n",
    "lista.sort()\n",
    "print(lista)\n",
    "\n",
    "# Para obter a ordem decrescente da lista, basta utilizar o parametro reverse\n",
    "lista.sort(reverse=True)\n",
    "print(lista)"
   ]
  },
  {
   "attachments": {},
   "cell_type": "markdown",
   "metadata": {},
   "source": [
    "**Exercício 07 - Explique os médotos: max e min**"
   ]
  },
  {
   "attachments": {},
   "cell_type": "markdown",
   "metadata": {},
   "source": [
    "**O método max() retorna o maior elemento de uma lista**"
   ]
  },
  {
   "cell_type": "code",
   "execution_count": 9,
   "metadata": {},
   "outputs": [
    {
     "name": "stdout",
     "output_type": "stream",
     "text": [
      "640\n"
     ]
    }
   ],
   "source": [
    "# Exemplo\n",
    "lista = [2, 72.5, 640, -4, 13, 1.8]\n",
    "maior = max(lista)\n",
    "print(maior)"
   ]
  },
  {
   "attachments": {},
   "cell_type": "markdown",
   "metadata": {},
   "source": [
    "**O método min() retorna o menor elemento de uma lista**"
   ]
  },
  {
   "cell_type": "code",
   "execution_count": 11,
   "metadata": {},
   "outputs": [
    {
     "name": "stdout",
     "output_type": "stream",
     "text": [
      "-4\n"
     ]
    }
   ],
   "source": [
    "# Exemplo\n",
    "lista = [2, 72.5, 640, -4, 13, 1.8]\n",
    "menor = min(lista)\n",
    "print(menor)"
   ]
  }
 ],
 "metadata": {
  "kernelspec": {
   "display_name": "Python 3",
   "language": "python",
   "name": "python3"
  },
  "language_info": {
   "codemirror_mode": {
    "name": "ipython",
    "version": 3
   },
   "file_extension": ".py",
   "mimetype": "text/x-python",
   "name": "python",
   "nbconvert_exporter": "python",
   "pygments_lexer": "ipython3",
   "version": "3.9.2"
  },
  "orig_nbformat": 4,
  "vscode": {
   "interpreter": {
    "hash": "916dbcbb3f70747c44a77c7bcd40155683ae19c65e1c03b4aa3499c5328201f1"
   }
  }
 },
 "nbformat": 4,
 "nbformat_minor": 2
}
