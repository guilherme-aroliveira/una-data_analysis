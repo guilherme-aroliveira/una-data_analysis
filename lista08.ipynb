{
 "cells": [
  {
   "attachments": {},
   "cell_type": "markdown",
   "metadata": {},
   "source": [
    "## Lista 08 - Análise De Dados e Soluções em TI ##"
   ]
  },
  {
   "attachments": {},
   "cell_type": "markdown",
   "metadata": {},
   "source": [
    "**Exercício 01 - Matriz Quadrada**"
   ]
  },
  {
   "cell_type": "code",
   "execution_count": 4,
   "metadata": {},
   "outputs": [
    {
     "name": "stdout",
     "output_type": "stream",
     "text": [
      "[[6, 8, 9, 0], [3, 5, 9, 6], [4, 3, 5, 6], [7, 8, 6, 5]]\n"
     ]
    }
   ],
   "source": [
    "# Informa linha e colunas da matriz\n",
    "n = int(input('Informe o número de linhas: '))\n",
    "m = int(input('Informe o número de colunas: '))\n",
    "matriz = []\n",
    "\n",
    "#verifica se a matriz é quadrada\n",
    "if n != m:\n",
    "    print('Não é uma matriz quadrada')\n",
    "else: \n",
    "    #Cria a matriz\n",
    "    for i in range (n):\n",
    "        linha = []\n",
    "        for j in range (m):\n",
    "            linha.append (int (input (\"matriz[%d][%d] = \" % (i, j))))\n",
    "        matriz.append (linha)\n",
    "print(matriz)\n"
   ]
  },
  {
   "attachments": {},
   "cell_type": "markdown",
   "metadata": {},
   "source": [
    "**Exercício 02 - soma das duas matrizes 5x5**"
   ]
  },
  {
   "cell_type": "code",
   "execution_count": 15,
   "metadata": {},
   "outputs": [
    {
     "name": "stdout",
     "output_type": "stream",
     "text": [
      "[[6, 7, 8, 9, 5], [2, 4, 5, 6, 7], [8, 1, 34, 5, 6], [87, 54, 3, 2, 34], [6, 7, 8, 9, 7]]\n",
      "[[6, 5, 4, 5, 6], [7, 8, 6, 5, 4], [3, 4, 5, 76, 89], [54, 32, 4, 5, 56], [67, 31, 12, 23, 45]]\n"
     ]
    }
   ],
   "source": [
    "# Informa linha e colunas da matriz\n",
    "n = int(input('Informe o número de linhas: '))\n",
    "m = int(input('Informe o número de colunas: '))\n",
    "matriz1 = []\n",
    "matriz2 = []\n",
    "\n",
    "# Cria a primeira matriz \n",
    "for i in range (n):\n",
    "    linha1 = []\n",
    "    for j in range (m):\n",
    "        linha1.append (int (input (\"matriz 1: [%d][%d] = \" % (i, j))))\n",
    "    matriz1.append (linha1)\n",
    "print(matriz1)\n",
    "\n",
    "# Cria a segunda matriz \n",
    "for i in range (n):\n",
    "    linha2 = []\n",
    "    for j in range (m):\n",
    "        linha2.append (int (input (\"matriz 2: [%d][%d] = \" % (i, j))))\n",
    "    matriz2.append (linha2)\n",
    "print(matriz2)\n"
   ]
  },
  {
   "attachments": {},
   "cell_type": "markdown",
   "metadata": {},
   "source": [
    "**Exercício 03 - multiplicação da primeira matriz pela segunda**"
   ]
  },
  {
   "cell_type": "code",
   "execution_count": 20,
   "metadata": {},
   "outputs": [
    {
     "name": "stdout",
     "output_type": "stream",
     "text": [
      "[[3, 2, 4, 5], [6, 5, 4, 3], [2, 6, 7, 8], [9, 0, 9, 8]]\n",
      "[[7, 6, 5, 4], [3, 4, 5, 6], [7, 8, 9, 7], [6, 5, 4, 3]]\n"
     ]
    }
   ],
   "source": [
    "# Informa linha e colunas da matriz\n",
    "n = int(input('Informe o número de linhas: '))\n",
    "m = int(input('Informe o número de colunas: '))\n",
    "matriz1 = []\n",
    "matriz2 = []\n",
    "\n",
    "# Cria a primeira matriz \n",
    "for i in range (n):\n",
    "    linha1 = []\n",
    "    for j in range (m):\n",
    "        linha1.append (int (input (\"matriz 1: [%d][%d] = \" % (i, j))))\n",
    "    matriz1.append (linha1)\n",
    "print(matriz1)\n",
    "\n",
    "# Cria a segunda matriz \n",
    "for i in range (n):\n",
    "    linha2 = []\n",
    "    for j in range (m):\n",
    "        linha2.append (int (input (\"matriz 2: [%d][%d] = \" % (i, j))))\n",
    "    matriz2.append (linha2)\n",
    "print(matriz2)"
   ]
  }
 ],
 "metadata": {
  "kernelspec": {
   "display_name": "Python 3",
   "language": "python",
   "name": "python3"
  },
  "language_info": {
   "codemirror_mode": {
    "name": "ipython",
    "version": 3
   },
   "file_extension": ".py",
   "mimetype": "text/x-python",
   "name": "python",
   "nbconvert_exporter": "python",
   "pygments_lexer": "ipython3",
   "version": "3.9.2"
  },
  "orig_nbformat": 4
 },
 "nbformat": 4,
 "nbformat_minor": 2
}
