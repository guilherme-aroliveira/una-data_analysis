{
 "cells": [
  {
   "attachments": {},
   "cell_type": "markdown",
   "metadata": {},
   "source": [
    "## Lista 10 - Análise De Dados e Soluções em TI ##"
   ]
  },
  {
   "attachments": {},
   "cell_type": "markdown",
   "metadata": {},
   "source": [
    "**Exercício 1 - Tuples**"
   ]
  },
  {
   "cell_type": "code",
   "execution_count": 23,
   "metadata": {},
   "outputs": [
    {
     "name": "stdout",
     "output_type": "stream",
     "text": [
      "{0, 1, 67.2}\n",
      "{0, 1, 67.2, 4, 9}\n"
     ]
    }
   ],
   "source": [
    "# a) Exemplo 01:\n",
    "conjunto = {0, 1, 67.2, True, False}\n",
    "print(conjunto)\n",
    "conjunto.update(9) # O método update apenas permite adicionar mais de um novo elemento \n",
    "print(conjunto)"
   ]
  },
  {
   "cell_type": "code",
   "execution_count": 17,
   "metadata": {},
   "outputs": [
    {
     "name": "stdout",
     "output_type": "stream",
     "text": [
      "{0, 1, 67.2}\n"
     ]
    },
    {
     "ename": "TypeError",
     "evalue": "'float' object is not iterable",
     "output_type": "error",
     "traceback": [
      "\u001b[0;31m---------------------------------------------------------------------------\u001b[0m",
      "\u001b[0;31mTypeError\u001b[0m                                 Traceback (most recent call last)",
      "Cell \u001b[0;32mIn[17], line 4\u001b[0m\n\u001b[1;32m      2\u001b[0m conjunto \u001b[39m=\u001b[39m {\u001b[39m0\u001b[39m, \u001b[39m1\u001b[39m, \u001b[39m67.2\u001b[39m, \u001b[39mTrue\u001b[39;00m, \u001b[39mFalse\u001b[39;00m}\n\u001b[1;32m      3\u001b[0m \u001b[39mprint\u001b[39m(conjunto)\n\u001b[0;32m----> 4\u001b[0m conjunto\u001b[39m.\u001b[39;49mupdate(\u001b[39m5.76\u001b[39;49m)\n\u001b[1;32m      5\u001b[0m \u001b[39mprint\u001b[39m(conjunto)\n",
      "\u001b[0;31mTypeError\u001b[0m: 'float' object is not iterable"
     ]
    }
   ],
   "source": [
    "# b) Exemplo 02:\n",
    "conjunto = {0, 1, 67.2, True, False}\n",
    "print(conjunto)\n",
    "conjunto.update(5.76) # O método update apenas permite adicionar mais de um novo elemento \n",
    "print(conjunto)"
   ]
  },
  {
   "cell_type": "code",
   "execution_count": 10,
   "metadata": {},
   "outputs": [
    {
     "name": "stdout",
     "output_type": "stream",
     "text": [
      "{0, 1, 67.2}\n",
      "{0, 1, 'A', 67.2, 'a', 'd', ' ', 'n', 'C', 'o'}\n"
     ]
    }
   ],
   "source": [
    "# c) Exemplo 03:\n",
    "conjunto = {0, 1, 67.2, True, False}\n",
    "print(conjunto)\n",
    "conjunto.update(\"Ana Conda\") # Caso não se passe como argumentos dois elementos, a string será fatiada, e cada letra se torna um elemento \n",
    "print(conjunto)"
   ]
  },
  {
   "cell_type": "code",
   "execution_count": 25,
   "metadata": {},
   "outputs": [
    {
     "name": "stdout",
     "output_type": "stream",
     "text": [
      "{0, 1, 67.2}\n",
      "{0, 1, 'A', 67.2, 'a', 'd', ' ', 'n', 'P', 'C', 't', 'o', 'h', 'y'}\n"
     ]
    }
   ],
   "source": [
    "# d) Exemplo 04:\n",
    "conjunto = {0, 1, 67.2, True, False}\n",
    "print(conjunto)\n",
    "conjunto.update(\"Ana Conda\", (\"Python\")) # Caso não se passe como argumentos os dois elementos, ambas as string seram fatiada, e cada letra se torna um elemento \n",
    "print(conjunto)"
   ]
  },
  {
   "cell_type": "code",
   "execution_count": 8,
   "metadata": {},
   "outputs": [
    {
     "name": "stdout",
     "output_type": "stream",
     "text": [
      "{0, 1, 67.2}\n",
      "{0, 1, 'A', 67.2, 'a', 'd', 'Python', 9, ' ', 'n', 'C', 'o'}\n"
     ]
    }
   ],
   "source": [
    "# e) Exemplo 05:\n",
    "conjunto = {0, 1, 67.2, True, False}\n",
    "print(conjunto)\n",
    "conjunto.update(\"Ana Conda\", (9, \"Python\")) # Os dois elementos passados juntos como arumentos serão novos elementos no conjunto, mas a string será fatiada\n",
    "print(conjunto)\n"
   ]
  },
  {
   "attachments": {},
   "cell_type": "markdown",
   "metadata": {},
   "source": [
    "**Exercicio 02**"
   ]
  }
 ],
 "metadata": {
  "kernelspec": {
   "display_name": "Python 3",
   "language": "python",
   "name": "python3"
  },
  "language_info": {
   "name": "python",
   "version": "3.9.2"
  },
  "orig_nbformat": 4
 },
 "nbformat": 4,
 "nbformat_minor": 2
}
