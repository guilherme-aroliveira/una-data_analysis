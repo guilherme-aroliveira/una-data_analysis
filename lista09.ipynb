{
 "cells": [
  {
   "attachments": {},
   "cell_type": "markdown",
   "metadata": {},
   "source": [
    "## Lista 09 - Análise De Dados e Soluções em TI ##"
   ]
  },
  {
   "attachments": {},
   "cell_type": "markdown",
   "metadata": {},
   "source": [
    "**Exercício 01 - Tuplas**"
   ]
  },
  {
   "cell_type": "code",
   "execution_count": 53,
   "metadata": {},
   "outputs": [
    {
     "name": "stdout",
     "output_type": "stream",
     "text": [
      "A posicação dos números pares é: 1 3 8 3 \n",
      "Quantidade de números impares da lista: 6\n",
      "O valor da média aritmética é: 4.40\n",
      "O quadrado da soma dos número negativos é: 64\n"
     ]
    }
   ],
   "source": [
    "tupla = (1, 2, -1, 0, 3, 7, 9, -3, -4, 0)\n",
    "quantI = 0\n",
    "quantP = 0\n",
    "somaP = 0\n",
    "somaN = 0\n",
    "\n",
    "print('A posicação dos números pares é: ', end = '')\n",
    "for i in tupla:\n",
    "    if i % 2 != 0:\n",
    "        quantI += 1\n",
    "    if i % 2 == 0:\n",
    "        # b) As posições dos números pares\n",
    "        pos = tupla.index(i)\n",
    "        print(pos, end = ' ')\n",
    "    if i > 0:\n",
    "        somaP = somaP + i\n",
    "        quantP += 1\n",
    "    if i < 0:\n",
    "        somaN = somaN + i\n",
    "\n",
    "# a) A quantidade de números ímpares\n",
    "print(f'\\nQuantidade de números impares da lista: {quantI}')\n",
    "\n",
    "# c) A média aritmética dos números positivos\n",
    "mediaP = somaP / quantP\n",
    "print('O valor da média aritmética é: {0:.2f}'.format(mediaP))\n",
    "\n",
    "# d) O quadrado da soma dos números negativos\n",
    "quadSoma = somaN ** 2\n",
    "print(f'O quadrado da soma dos número negativos é: {quadSoma}')"
   ]
  }
 ],
 "metadata": {
  "kernelspec": {
   "display_name": "Python 3",
   "language": "python",
   "name": "python3"
  },
  "language_info": {
   "codemirror_mode": {
    "name": "ipython",
    "version": 3
   },
   "file_extension": ".py",
   "mimetype": "text/x-python",
   "name": "python",
   "nbconvert_exporter": "python",
   "pygments_lexer": "ipython3",
   "version": "3.9.2"
  },
  "orig_nbformat": 4
 },
 "nbformat": 4,
 "nbformat_minor": 2
}
