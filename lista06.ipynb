{
 "cells": [
  {
   "attachments": {},
   "cell_type": "markdown",
   "metadata": {},
   "source": [
    "## Lista 06 - Análise De Dados e Soluções em TI"
   ]
  },
  {
   "attachments": {},
   "cell_type": "markdown",
   "metadata": {},
   "source": [
    "**Exercício 01 - Soma dos números baseado em um limite**"
   ]
  },
  {
   "cell_type": "code",
   "execution_count": 50,
   "metadata": {},
   "outputs": [
    {
     "name": "stdout",
     "output_type": "stream",
     "text": [
      "Série a:  3 6 9 12 15 18 21 \n",
      "A soma dos valores é: 84\n",
      "\n",
      "Série b:  5 10 15 20 \n",
      "A soma dos valores é: 50\n"
     ]
    }
   ],
   "source": [
    "#Recebe o limite\n",
    "num = int(input('Informe um valor inteiro para o limite: '))\n",
    "\n",
    "# Serie a)\n",
    "soma = 0\n",
    "print('Série a: ', end = ' ')\n",
    "for x in range(3, num, 3):\n",
    "    print (x, end = \" \")\n",
    "    soma = soma + x\n",
    "print(f\"\\nA soma dos valores é: {soma}\")\n",
    "\n",
    "#Serie b)\n",
    "soma = 0\n",
    "print('\\nSérie b: ', end = ' ')\n",
    "for x in range(5, num, 5):\n",
    "    print(x, end = \" \")\n",
    "    soma = soma + x\n",
    "print(f\"\\nA soma dos valores é: {soma}\")"
   ]
  },
  {
   "attachments": {},
   "cell_type": "markdown",
   "metadata": {},
   "source": [
    "**Exercicio 02 - série de Fibonacci**"
   ]
  },
  {
   "cell_type": "code",
   "execution_count": 25,
   "metadata": {},
   "outputs": [
    {
     "name": "stdout",
     "output_type": "stream",
     "text": [
      "Série Fibonnaci: 0 1 1 2 3 5 8 13 21 34 \n",
      "\n",
      "A soma dos valores é:  88\n"
     ]
    }
   ],
   "source": [
    "# Recebe o valor limite\n",
    "num = int(input(\"Informe o valor limite: \"))\n",
    "\n",
    "n1 = 0\n",
    "n2 = 1\n",
    "soma = 1\n",
    "\n",
    "print('Série Fibonnaci: ', end = '')\n",
    "print(f'{n1}', end = ' ')\n",
    "print(f'{n2}', end = ' ')\n",
    "\n",
    "for x in range(num):\n",
    "    x = n1 + n2\n",
    "    print(f'{x}', end= ' ')\n",
    "    n1 = n2\n",
    "    n2 = x\n",
    "    soma = soma + x\n",
    "print(\"\\n\\nA soma dos valores é: \", soma)   "
   ]
  }
 ],
 "metadata": {
  "kernelspec": {
   "display_name": "Python 3",
   "language": "python",
   "name": "python3"
  },
  "language_info": {
   "codemirror_mode": {
    "name": "ipython",
    "version": 3
   },
   "file_extension": ".py",
   "mimetype": "text/x-python",
   "name": "python",
   "nbconvert_exporter": "python",
   "pygments_lexer": "ipython3",
   "version": "3.9.2"
  },
  "orig_nbformat": 4
 },
 "nbformat": 4,
 "nbformat_minor": 2
}
