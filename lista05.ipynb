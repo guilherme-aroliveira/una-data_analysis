{
 "cells": [
  {
   "attachments": {},
   "cell_type": "markdown",
   "metadata": {},
   "source": [
    "## Lista 05 - Análise de Dados e Soluções em TI"
   ]
  },
  {
   "attachments": {},
   "cell_type": "markdown",
   "metadata": {},
   "source": [
    "**Exercício 01 - limites inferior e superior**"
   ]
  },
  {
   "cell_type": "code",
   "execution_count": 12,
   "metadata": {},
   "outputs": [
    {
     "name": "stdout",
     "output_type": "stream",
     "text": [
      "2\n",
      "4\n",
      "6\n",
      "8\n",
      "10\n",
      "Fim do programa!\n"
     ]
    }
   ],
   "source": [
    "#Informe os limites\n",
    "inferior = int(input('Digite o limite inferior: '))\n",
    "superior = int(input('Digite o limite superior: '))\n",
    "\n",
    "#Itera até o limite superior\n",
    "i = inferior\n",
    "while i <= superior:\n",
    "    #Verifica os valores\n",
    "    if i % 2 == 0:\n",
    "        print(i)\n",
    "    i += 1\n",
    "else:\n",
    "    print('Fim do programa!')"
   ]
  },
  {
   "attachments": {},
   "cell_type": "markdown",
   "metadata": {},
   "source": [
    "**Exercício 02 - Fatorial**"
   ]
  },
  {
   "cell_type": "code",
   "execution_count": 32,
   "metadata": {},
   "outputs": [
    {
     "name": "stdout",
     "output_type": "stream",
     "text": [
      "O fatorial de 5! = 120\n"
     ]
    }
   ],
   "source": [
    "#Recebe o número\n",
    "num = int(input('Informe um número inteiro: '))\n",
    "\n",
    "if num < 0:\n",
    "    print('Número inválido')\n",
    "else:\n",
    "    i = num\n",
    "    fat = 1\n",
    "    while i > 0:\n",
    "        fat = fat * i\n",
    "        i -= 1\n",
    "    print(f'O fatorial de {num}! = {fat}')"
   ]
  }
 ],
 "metadata": {
  "kernelspec": {
   "display_name": "Python 3",
   "language": "python",
   "name": "python3"
  },
  "language_info": {
   "codemirror_mode": {
    "name": "ipython",
    "version": 3
   },
   "file_extension": ".py",
   "mimetype": "text/x-python",
   "name": "python",
   "nbconvert_exporter": "python",
   "pygments_lexer": "ipython3",
   "version": "3.9.2"
  },
  "orig_nbformat": 4
 },
 "nbformat": 4,
 "nbformat_minor": 2
}
