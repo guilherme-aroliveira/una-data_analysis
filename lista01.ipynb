{
 "cells": [
  {
   "attachments": {},
   "cell_type": "markdown",
   "metadata": {},
   "source": [
    "# Lista 01 - Análise de Dados e Soluções em TI"
   ]
  },
  {
   "attachments": {},
   "cell_type": "markdown",
   "metadata": {},
   "source": [
    "**Exercicio 01 - Leia dois números**"
   ]
  },
  {
   "cell_type": "code",
   "execution_count": 12,
   "metadata": {},
   "outputs": [
    {
     "name": "stdout",
     "output_type": "stream",
     "text": [
      "Valor da soma:  13\n",
      "Valor da subtração 5\n",
      "Valor da multiplicação:  36\n",
      "Valor da divisão:  2.25\n"
     ]
    }
   ],
   "source": [
    "num1 = int(input('Informe um valor: '))\n",
    "num2 = int(input('Informe outro valor: '))\n",
    "\n",
    "print('Valor da soma: ', num1 + num2)\n",
    "print('Valor da subtração', num1 - num2)\n",
    "print('Valor da multiplicação: ', num1 * num2)\n",
    "print('Valor da divisão: ', num1 / num2)"
   ]
  },
  {
   "attachments": {},
   "cell_type": "markdown",
   "metadata": {},
   "source": [
    "**Exercício 02 - Leita três números**"
   ]
  },
  {
   "cell_type": "code",
   "execution_count": 15,
   "metadata": {},
   "outputs": [
    {
     "name": "stdout",
     "output_type": "stream",
     "text": [
      "Media aritmética:  6.666666666666667\n"
     ]
    }
   ],
   "source": [
    "num1 = int(input('Informe um valor: '))\n",
    "num2 = int(input('Informe outro valor: '))\n",
    "num3 = int(input('Informe mais um valor: '))\n",
    "\n",
    "print('Media aritmética: ', (num1 + num2 + num3) / 3)"
   ]
  }
 ],
 "metadata": {
  "kernelspec": {
   "display_name": "Python 3",
   "language": "python",
   "name": "python3"
  },
  "language_info": {
   "codemirror_mode": {
    "name": "ipython",
    "version": 3
   },
   "file_extension": ".py",
   "mimetype": "text/x-python",
   "name": "python",
   "nbconvert_exporter": "python",
   "pygments_lexer": "ipython3",
   "version": "3.9.2 (default, Feb 28 2021, 17:03:44) \n[GCC 10.2.1 20210110]"
  },
  "orig_nbformat": 4,
  "vscode": {
   "interpreter": {
    "hash": "916dbcbb3f70747c44a77c7bcd40155683ae19c65e1c03b4aa3499c5328201f1"
   }
  }
 },
 "nbformat": 4,
 "nbformat_minor": 2
}
