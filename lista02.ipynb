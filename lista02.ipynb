{
 "cells": [
  {
   "attachments": {},
   "cell_type": "markdown",
   "metadata": {},
   "source": [
    "# Lista 02 - - Análise de Dados e Soluções em TI"
   ]
  },
  {
   "attachments": {},
   "cell_type": "markdown",
   "metadata": {},
   "source": [
    "**Exercício 01 - Determinar o número de carros e motos a partir do total de veículos e rodas**"
   ]
  },
  {
   "cell_type": "code",
   "execution_count": 1,
   "metadata": {},
   "outputs": [
    {
     "name": "stdout",
     "output_type": "stream",
     "text": [
      "\n",
      "A quantidade de motos é: 9.5\n",
      "A quantidade de carros é: -3.5\n"
     ]
    }
   ],
   "source": [
    "# Total de veículos\n",
    "nVeiculos = int(input('Informe o total de veículos: '))\n",
    "\n",
    "#Total de rodas\n",
    "nRodas = int(input('Informe o total de rodas: '))\n",
    "\n",
    "# Cálculos aritmeticos\n",
    "nMotos = ((4 * nVeiculos) - nRodas) / 2\n",
    "nCarros = nVeiculos - nMotos\n",
    "\n",
    "# Saída dos resultados\n",
    "print(\"\\nA quantidade de motos é: %.1f\" % nMotos)\n",
    "print(\"A quantidade de carros é: %.1f\" % nCarros)\n"
   ]
  },
  {
   "attachments": {},
   "cell_type": "markdown",
   "metadata": {},
   "source": [
    "**Exercícío 02 - Calcular o menor número de notas para o troco de um pagamento**"
   ]
  },
  {
   "cell_type": "code",
   "execution_count": 6,
   "metadata": {},
   "outputs": [
    {
     "name": "stdout",
     "output_type": "stream",
     "text": [
      "Opções: \n",
      "[1]Salgado = R$5.0 \n",
      "[2]Doce = R$10.0\n",
      "[3]Suco = R$2.0\n",
      "[4]Refrigerante = R$1.0\n",
      "Valor do produto R$40.00\n",
      "Pagamento efetuado com sucesso!\n",
      "Seu troco será de R$10.00\n",
      "Notas de 50:  0.0\n",
      "Notas de 20:  0.0\n",
      "Notas de 10:  1.0\n",
      "Notas de 5:  0.0\n",
      "Notas de 2:  0.0\n",
      "Notas de 1:  0.0\n"
     ]
    }
   ],
   "source": [
    "# Menu com as oções e preço dos produto\n",
    "print('''Opções: \n",
    "[1]Salgado = R$5.0 \n",
    "[2]Doce = R$10.0\n",
    "[3]Suco = R$2.0\n",
    "[4]Refrigerante = R$1.0''')\n",
    "\n",
    "# Informa a opção \n",
    "opcao = int(input('\\nEscolha uma opção: '))\n",
    "\n",
    "# Informa a quantidade\n",
    "quant = int(input('Informe a quantidad do produto: '))\n",
    "\n",
    "# Calculo dos valores dos produtos\n",
    "vSalgado = quant * 5.0\n",
    "vDoce = quant * 10.0\n",
    "vSuco = quant * 2.0\n",
    "vRefri = quant* 1.0\n",
    "\n",
    "# Testa as opções\n",
    "if opcao == 1:\n",
    "    # Valor do produto\n",
    "    print(\"Valor do produto R$%.2f\" % vSalgado)\n",
    "    \n",
    "    # Valor pago\n",
    "    vPago = float(input(\"\\nInsira um valor para pagamento: \"))\n",
    "    \n",
    "    if vPago < vSalgado:\n",
    "        print('Quantia paga insuficente. Refaça a compra!')\n",
    "    else:\n",
    "        nota = vPago\n",
    "        \n",
    "        # Testa o valor das notas\n",
    "        if (nota == 50) or (nota == 20) or (nota == 10) or (nota == 5) or (nota == 2) or (nota == 1):\n",
    "            print(\"\\nPagamento efetuado com sucesso!\")\n",
    "            \n",
    "            #Calculo do troco\n",
    "            troco = vPago - vSalgado\n",
    "            trocoT = troco\n",
    "            \n",
    "            nota50 = troco // 50\n",
    "            troco = troco % 50\n",
    "            \n",
    "            nota20 = troco // 20\n",
    "            troco = troco % 20\n",
    "            \n",
    "            nota10 = troco // 10\n",
    "            troco = troco % 10\n",
    "\n",
    "            nota5 = troco // 5\n",
    "            troco = troco % 5\n",
    "\n",
    "            nota2 = troco // 2\n",
    "            troco = troco % 2\n",
    "            \n",
    "            print(\"\\nSeu troco será de R$%.2f\" % trocoT)\n",
    "            print (\"Notas de 50: \", nota50)\n",
    "            print (\"Notas de 20: \", nota20)\n",
    "            print (\"Notas de 10: \", nota10)\n",
    "            print (\"Notas de 5: \", nota5)\n",
    "            print (\"Notas de 2: \", nota2)\n",
    "            print (\"Notas de 1: \", troco)\n",
    "            \n",
    "        else:\n",
    "            print(\"Nota Inválida. A máquina só aceita notas de 50, 20, 10, 5, 2 ou 1 real\")\n",
    "            print(\"Refaça a compra!\")"
   ]
  }
 ],
 "metadata": {
  "kernelspec": {
   "display_name": "Python 3",
   "language": "python",
   "name": "python3"
  },
  "language_info": {
   "codemirror_mode": {
    "name": "ipython",
    "version": 3
   },
   "file_extension": ".py",
   "mimetype": "text/x-python",
   "name": "python",
   "nbconvert_exporter": "python",
   "pygments_lexer": "ipython3",
   "version": "3.9.2"
  },
  "orig_nbformat": 4,
  "vscode": {
   "interpreter": {
    "hash": "916dbcbb3f70747c44a77c7bcd40155683ae19c65e1c03b4aa3499c5328201f1"
   }
  }
 },
 "nbformat": 4,
 "nbformat_minor": 2
}
