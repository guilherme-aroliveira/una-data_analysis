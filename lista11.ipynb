{
 "cells": [
  {
   "attachments": {},
   "cell_type": "markdown",
   "metadata": {},
   "source": [
    "## Lista 11 - Análise De Dados e Soluções em TI ##"
   ]
  },
  {
   "attachments": {},
   "cell_type": "markdown",
   "metadata": {},
   "source": [
    "**Exercício 01 - Explicar o dicionário**"
   ]
  },
  {
   "cell_type": "code",
   "execution_count": 3,
   "metadata": {},
   "outputs": [
    {
     "name": "stdout",
     "output_type": "stream",
     "text": [
      "{'nome': 'Ana Conda', 'saldo': 67.2, 'carro': 1, 'moto': 0, 'graduacao': True, 'pos_graduacao': False}\n",
      "{'nome': 'Ana Conda', 'saldo': 67.2, 'carro': 1, 'moto': 0, 'graduacao': True, 'pos_graduacao': False}\n"
     ]
    }
   ],
   "source": [
    "dicionario1 = {\n",
    "\"nome\": \"Ana Conda\",\n",
    "\"saldo\": 67.2,\n",
    "\"carro\": 1,\n",
    "\"moto\": 0,\n",
    "\"graduacao\": True,\n",
    "\"pos_graduacao\": False\n",
    "}\n",
    "dicionario2 = {}\n",
    "\n",
    "for chave, valor in dicionario1.items ():\n",
    "    dicionario2[chave] = valor\n",
    "print (dicionario1)\n",
    "print (dicionario2)"
   ]
  },
  {
   "attachments": {},
   "cell_type": "markdown",
   "metadata": {},
   "source": [
    "Os elementos do dicionario1 com as suas repectivas chaves e valores, froam copiados para o dicionario2. \n",
    "A iteração é realizada pela chave e valor na qual verifica cada elemento do dicionario1."
   ]
  },
  {
   "attachments": {},
   "cell_type": "markdown",
   "metadata": {},
   "source": [
    "**Exercício 02 - junção dos três dicionários**"
   ]
  },
  {
   "cell_type": "code",
   "execution_count": 12,
   "metadata": {},
   "outputs": [
    {
     "name": "stdout",
     "output_type": "stream",
     "text": [
      "{'aluno1': {'nome': 'Carla', 'disciplina': 'Redes'}, 'aluno2': {'nome': 'Lara', 'disciplina': 'Banco de Dados'}, 'aluno3': {'nome': 'Mara', 'disciplina': 'Algoritmos'}}\n"
     ]
    }
   ],
   "source": [
    "manha = {\n",
    "    \"aluno1\": {\n",
    "    \"nome\": \"Clara\",\n",
    "    \"disciplina\": \"Redes\"\n",
    "    },\n",
    "    \"aluno2\": {\n",
    "    \"nome\": \"Jonas\",\n",
    "    \"disciplina\": \"Banco de Dados\"\n",
    "    },\n",
    "    \"aluno3\": {\n",
    "    \"nome\": \"Mara\",\n",
    "    \"disciplina\": \"Algoritmos\"\n",
    "    }\n",
    "}\n",
    "\n",
    "tarde = {\n",
    "    \"aluno1\": {\n",
    "    \"nome\": \"Ana\",\n",
    "    \"disciplina\": \"Redes\"\n",
    "    },\n",
    "    \"aluno2\": {\n",
    "    \"nome\": \"Rafael\",\n",
    "    \"disciplina\": \"Banco de Dados\"\n",
    "    }\n",
    "}\n",
    "\n",
    "noite = {\n",
    "    \"aluno1\": {\n",
    "    \"nome\": \"Carla\",\n",
    "    \"disciplina\": \"Redes\"\n",
    "    },\n",
    "    \"aluno2\": {\n",
    "    \"nome\": \"Lara\",\n",
    "    \"disciplina\": \"Banco de Dados\"\n",
    "    }\n",
    "}\n",
    "\n",
    "novo_dict = {}\n",
    "\n",
    "for chave, valor in manha.items():\n",
    "    novo_dict[chave] = valor\n",
    "\n",
    "for chave, valor in tarde.items():\n",
    "    if valor not in novo_dict.items():\n",
    "        novo_dict[chave] = valor\n",
    "\n",
    "for chave, valor in noite.items():\n",
    "    if valor not in novo_dict.items():\n",
    "        novo_dict[chave] = valor\n",
    "\n",
    "print(novo_dict)"
   ]
  }
 ],
 "metadata": {
  "kernelspec": {
   "display_name": "Python 3",
   "language": "python",
   "name": "python3"
  },
  "language_info": {
   "codemirror_mode": {
    "name": "ipython",
    "version": 3
   },
   "file_extension": ".py",
   "mimetype": "text/x-python",
   "name": "python",
   "nbconvert_exporter": "python",
   "pygments_lexer": "ipython3",
   "version": "3.9.2"
  },
  "orig_nbformat": 4
 },
 "nbformat": 4,
 "nbformat_minor": 2
}
