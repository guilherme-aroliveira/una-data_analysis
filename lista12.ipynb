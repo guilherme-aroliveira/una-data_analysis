{
 "cells": [
  {
   "attachments": {},
   "cell_type": "markdown",
   "metadata": {},
   "source": [
    "## Lista 12 - Análise De Dados e Soluções em TI ##"
   ]
  },
  {
   "attachments": {},
   "cell_type": "markdown",
   "metadata": {},
   "source": [
    "**Exercicio 01 - Função que recebe dois dicionários como argumento**"
   ]
  },
  {
   "cell_type": "code",
   "execution_count": 2,
   "metadata": {},
   "outputs": [
    {
     "name": "stdout",
     "output_type": "stream",
     "text": [
      "({'aluno1': {'nome': 'Clara', 'disciplina': 'Redes'}, 'aluno2': {'nome': 'Jonas', 'disciplina': 'Banco de Dados'}}, {'aluno2': {'nome': 'Ana', 'disciplina': 'Algoritmos'}, 'aluno3': {'nome': 'Rafael', 'disciplina': 'Grafos'}})\n"
     ]
    }
   ],
   "source": [
    "# Informa os dicionários\n",
    "manha = {\n",
    "    \"aluno1\": {\n",
    "        \"nome\": \"Clara\",\n",
    "        \"disciplina\": \"Redes\"\n",
    "    },\n",
    "    \"aluno2\": {\n",
    "        \"nome\": \"Jonas\",\n",
    "        \"disciplina\": \"Banco de Dados\"\n",
    "    }\n",
    "}\n",
    "\n",
    "tarde = {\n",
    "    \"aluno2\": {\n",
    "        \"nome\": \"Ana\",\n",
    "        \"disciplina\": \"Algoritmos\"\n",
    "    },\n",
    "    \"aluno3\": {\n",
    "        \"nome\": \"Rafael\",\n",
    "        \"disciplina\": \"Grafos\"\n",
    "    }\n",
    "}\n",
    "\n",
    "# Cria a funcção com parametros\n",
    "def turnos(manha, tarde):\n",
    "    return manha, tarde\n",
    "\n",
    "#Imprime a chamada da função com os argumentos \n",
    "print(turnos(manha, tarde))"
   ]
  }
 ],
 "metadata": {
  "kernelspec": {
   "display_name": "Python 3",
   "language": "python",
   "name": "python3"
  },
  "language_info": {
   "codemirror_mode": {
    "name": "ipython",
    "version": 3
   },
   "file_extension": ".py",
   "mimetype": "text/x-python",
   "name": "python",
   "nbconvert_exporter": "python",
   "pygments_lexer": "ipython3",
   "version": "3.9.2"
  },
  "orig_nbformat": 4
 },
 "nbformat": 4,
 "nbformat_minor": 2
}
