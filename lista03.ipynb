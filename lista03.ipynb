{
 "cells": [
  {
   "attachments": {},
   "cell_type": "markdown",
   "metadata": {},
   "source": [
    "# Lista 03 - - Análise de Dados e Soluções em TI"
   ]
  },
  {
   "attachments": {},
   "cell_type": "markdown",
   "metadata": {},
   "source": [
    "**Exercício 01 - Leia as coordenadas de dois pontos no plano cartesiano**"
   ]
  },
  {
   "cell_type": "code",
   "execution_count": 11,
   "metadata": {},
   "outputs": [
    {
     "name": "stdout",
     "output_type": "stream",
     "text": [
      "Distância entre os dois pontos: 2.8284\n"
     ]
    }
   ],
   "source": [
    "import math\n",
    "\n",
    "# abscissas e ordenadas - primeiro ponto\n",
    "x1 = int(input('Informe a abcissa do primeiro ponto (x1): '))\n",
    "y1 = int(input('Informe a ordenada do primeiro ponto (y1): '))\n",
    "\n",
    "# abscissas e ordenadas - segundo ponto\n",
    "x2 = int(input('Informe a abcissa do primeiro ponto (x2): '))\n",
    "y2 = int(input('Informe a ordenada do primeiro ponto (y2): '))\n",
    "\n",
    "# Caulcula a distancia entre os dois pontos\n",
    "distancia = math.sqrt(((x2 - x1)**2) + ((y2 - y1)**2))\n",
    "\n",
    "# Retorna a distância\n",
    "print('Distância entre os dois pontos: {0:.4f}'.format(distancia))"
   ]
  },
  {
   "attachments": {},
   "cell_type": "markdown",
   "metadata": {},
   "source": [
    "**Exercício 02 - Maior, menor e media de três valores reais**"
   ]
  },
  {
   "cell_type": "code",
   "execution_count": 13,
   "metadata": {},
   "outputs": [
    {
     "name": "stdout",
     "output_type": "stream",
     "text": [
      "Maior valor: 10.0\n",
      "Menor valor: 4.0\n",
      "A média arimética é: 6.67\n"
     ]
    }
   ],
   "source": [
    "# informa os 3 valores\n",
    "valor1 = float(input('Informe um valor: '))\n",
    "valor2 = float(input('Informe um valor: '))\n",
    "valor3 = float(input('Informe um valor: '))\n",
    "\n",
    "# retorna o maior e menor valor\n",
    "if valor1 > valor2 and valor2 < valor3:\n",
    "    print(f'Maior valor: {valor1}')\n",
    "    print(f'Menor valor: {valor2}')\n",
    "elif valor1 > valor2 and valor2 < valor3:\n",
    "    print(f'Maior valor: {valor1}')\n",
    "    print(f'Menor valor: {valor3}')\n",
    "elif valor2 > valor1 and valor1 < valor3:\n",
    "    print(f'Maior valor: {valor2}')\n",
    "    print(f'Menor valor: {valor1}')\n",
    "elif valor2 > valor1 and valor1 > valor3:\n",
    "    print(f'Maior valor: {valor2}')\n",
    "    print(f'Menor valor: {valor3}')\n",
    "elif valor3 > valor2 and valor2 < valor1:\n",
    "    print(f'Maior valor: {valor3}')\n",
    "    print(f'Menor valor: {valor2}')\n",
    "elif valor3 > valor2 and valor2 > valor1:\n",
    "    print(f'Maior valor: {valor3}')\n",
    "    print(f'Maior valor: {valor1}')\n",
    "    \n",
    "# media arimética\n",
    "media = (valor1 + valor2 + valor3) / 3\n",
    "\n",
    "# Retorna o valor da média\n",
    "print('A média arimética é: {0:.2f}'.format(media))"
   ]
  },
  {
   "attachments": {},
   "cell_type": "markdown",
   "metadata": {},
   "source": [
    "**Exercício 03 - equação segundo grau**"
   ]
  },
  {
   "cell_type": "code",
   "execution_count": null,
   "metadata": {},
   "outputs": [],
   "source": []
  }
 ],
 "metadata": {
  "kernelspec": {
   "display_name": "Python 3",
   "language": "python",
   "name": "python3"
  },
  "language_info": {
   "codemirror_mode": {
    "name": "ipython",
    "version": 3
   },
   "file_extension": ".py",
   "mimetype": "text/x-python",
   "name": "python",
   "nbconvert_exporter": "python",
   "pygments_lexer": "ipython3",
   "version": "3.9.2"
  },
  "orig_nbformat": 4
 },
 "nbformat": 4,
 "nbformat_minor": 2
}
