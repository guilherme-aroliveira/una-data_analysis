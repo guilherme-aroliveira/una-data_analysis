{
 "cells": [
  {
   "attachments": {},
   "cell_type": "markdown",
   "metadata": {},
   "source": [
    "## Lista 04 - Análise de Dados e Soluções em TI"
   ]
  },
  {
   "attachments": {},
   "cell_type": "markdown",
   "metadata": {},
   "source": [
    "**Exercício 01 - Maior, menor e media de um número**"
   ]
  },
  {
   "cell_type": "code",
   "execution_count": 2,
   "metadata": {},
   "outputs": [
    {
     "name": "stdout",
     "output_type": "stream",
     "text": [
      "Maior valor: 9\n",
      "Menor valor: 6\n",
      "A média arimética é: 9\n"
     ]
    }
   ],
   "source": [
    "# informa os 3 valores\n",
    "num1 = int(input('Informe um número: '))\n",
    "num2 = int(input('Informe outro número: '))\n",
    "num3 = int(input('Informe um outro número: '))\n",
    "\n",
    "# retorna o maior e menor valor\n",
    "if num1 > num2 and num2 < num3:\n",
    "    print(f'Maior valor: {num1}')\n",
    "    print(f'Menor valor: {num2}')\n",
    "elif num1 > num2 and num2 < num3:\n",
    "    print(f'Maior valor: {num1}')\n",
    "    print(f'Menor valor: {num3}')\n",
    "elif num2 > num1 and num1 < num3:\n",
    "    print(f'Maior valor: {num2}')\n",
    "    print(f'Menor valor: {num1}')\n",
    "elif num2 > num1 and num1 > num3:\n",
    "    print(f'Maior valor: {num2}')\n",
    "    print(f'Menor valor: {num3}')\n",
    "elif num3 > num2 and num2 < num1:\n",
    "    print(f'Maior valor: {num3}')\n",
    "    print(f'Menor valor: {num2}')\n",
    "elif num3 > num2 and num2 > num1:\n",
    "    print(f'Maior valor: {num3}')\n",
    "    print(f'Maior valor: {num1}')\n",
    "    \n",
    "# media arimética\n",
    "media = int((num1 + num2 + num3) / 3)\n",
    "\n",
    "# Retorna o valor da média\n",
    "print(f'A média arimética é: {media}')"
   ]
  },
  {
   "attachments": {},
   "cell_type": "markdown",
   "metadata": {},
   "source": [
    "**Exercício 02 - Coordenada cartesiana de um ponto**"
   ]
  },
  {
   "cell_type": "code",
   "execution_count": 5,
   "metadata": {},
   "outputs": [
    {
     "name": "stdout",
     "output_type": "stream",
     "text": [
      "Ponto: P (2, -3)\n",
      "Quandrante: 4\n"
     ]
    }
   ],
   "source": [
    "# informa a abscissa e a ordenada\n",
    "abscissa = int(input('Informe a abscissa(coordenada x) do ponto: '))\n",
    "ordenada = int(input('Informe a ordenada(coordenada y) do ponto: '))\n",
    "\n",
    "# verifica o ponto no plano cartesiano\n",
    "if abscissa == 0 and ordenada == 0:\n",
    "    print('Ponto situado na origem do plano cartesiano.')\n",
    "else: \n",
    "    # Retorna o Ponto e o Quadrante\n",
    "    print(f'Ponto: P {abscissa, ordenada}')\n",
    "    # verifica o quadrante\n",
    "    if abscissa < 0 and ordenada > 0:\n",
    "        print(\"Quandrante: 2\")\n",
    "    elif abscissa < 0 and ordenada < 0:\n",
    "        print(\"Quandrante: 3\")\n",
    "    elif abscissa > 0 and ordenada > 0:\n",
    "        print(\"Quandrante: 1\")\n",
    "    elif abscissa > 0 and ordenada < 0:\n",
    "        print(\"Quandrante: 4\")"
   ]
  }
 ],
 "metadata": {
  "kernelspec": {
   "display_name": "Python 3",
   "language": "python",
   "name": "python3"
  },
  "language_info": {
   "codemirror_mode": {
    "name": "ipython",
    "version": 3
   },
   "file_extension": ".py",
   "mimetype": "text/x-python",
   "name": "python",
   "nbconvert_exporter": "python",
   "pygments_lexer": "ipython3",
   "version": "3.9.2"
  },
  "orig_nbformat": 4
 },
 "nbformat": 4,
 "nbformat_minor": 2
}
